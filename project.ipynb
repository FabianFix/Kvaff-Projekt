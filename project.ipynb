{
  "cells": [
    {
      "attachments": {},
      "cell_type": "markdown",
      "metadata": {},
      "source": [
        "# Läs in kommundata"
      ]
    },
    {
      "cell_type": "code",
      "execution_count": 2,
      "metadata": {},
      "outputs": [
        {
          "name": "stdout",
          "output_type": "stream",
          "text": [
            "Slumpmässig kommun: \n",
            "Kommunen Skellefteå har id 2482 och har som senast totalt 71233 människor som bodde i kommunen. \n"
          ]
        }
      ],
      "source": [
        "from random import randint\n",
        "from data_parsing import DataParser\n",
        "\n",
        "\n",
        "data = DataParser()\n",
        "data.laddaKommuner()\n",
        "print(\"Slumpmässig kommun: \")\n",
        "print(data.kommuner[randint(0, 289)])"
      ]
    },
    {
      "attachments": {},
      "cell_type": "markdown",
      "metadata": {},
      "source": [
        "# Läs in bankomatdata"
      ]
    },
    {
      "cell_type": "code",
      "execution_count": 3,
      "metadata": {},
      "outputs": [
        {
          "name": "stdout",
          "output_type": "stream",
          "text": [
            "Slumpmässig bankomat: \n",
            "Bankomat med id 186601, som finns på addressen Mall of Scandinavia, i Solna kommun. Det finns 77 transaktionsadata registrerade. ÄrUte = False\n",
            "Slumpmässig transaktion\n",
            "{'månad': '2018M04', 'antalTransaktioner': 393, 'omsättning': 311600}\n"
          ]
        }
      ],
      "source": [
        "data.laddaBankomater()\n",
        "\n",
        "print(\"Slumpmässig bankomat: \")\n",
        "print(data.bankomater[randint(0, len(data.bankomater) -1 )])\n",
        "print(\"Slumpmässig transaktion\")\n",
        "print(data.bankomater[randint(0, len(data.bankomater) - 1)].transaktionsDataSEK[0])"
      ]
    },
    {
      "attachments": {},
      "cell_type": "markdown",
      "metadata": {},
      "source": [
        "# Deskriptiv Analys"
      ]
    },
    {
      "cell_type": "code",
      "execution_count": 12,
      "metadata": {},
      "outputs": [
        {
          "name": "stdout",
          "output_type": "stream",
          "text": [
            "504118 2014M05 11849600\n"
          ]
        }
      ],
      "source": [
        "import pandas as pd\n",
        "from matplotlib import pyplot as plt\n",
        "\n",
        "slumpmässigBankomat = data.bankomater[randint(0, len(data.bankomater)-1)]\n",
        "\n",
        "transaktionsMånader = []\n",
        "\n",
        "for transaktionsmånad in slumpmässigBankomat.transaktionsDataSEK:\n",
        "    transaktionsMånader.append(transaktionsmånad)\n",
        "\n",
        "kommun = [kommun for kommun in data.kommuner if kommun.namn == slumpmässigBankomat.geographicalData[\"kommun\"]][0]\n",
        "\n",
        "månader = []\n",
        "omsättningar = []\n",
        "befolkningar = []\n",
        "\n",
        "for månad in transaktionsMånader:\n",
        "    befolkningar.append(kommun.data[månad[\"månad\"]][\"total\"])\n",
        "    månader.append(månad[\"månad\"])\n",
        "    omsättningar.append(månad[\"omsättning\"])\n",
        "\n",
        "print(befolkningar[4], månader[4], omsättningar[4])"
      ]
    }
  ],
  "metadata": {
    "colab": {
      "provenance": []
    },
    "kernelspec": {
      "display_name": "Python 3",
      "language": "python",
      "name": "python3"
    },
    "language_info": {
      "codemirror_mode": {
        "name": "ipython",
        "version": 3
      },
      "file_extension": ".py",
      "mimetype": "text/x-python",
      "name": "python",
      "nbconvert_exporter": "python",
      "pygments_lexer": "ipython3",
      "version": "3.11.0"
    },
    "orig_nbformat": 4,
    "vscode": {
      "interpreter": {
        "hash": "c261aea317cc0286b3b3261fbba9abdec21eaa57589985bb7a274bf54d6cc0a7"
      }
    }
  },
  "nbformat": 4,
  "nbformat_minor": 0
}
