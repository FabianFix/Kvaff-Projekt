{
  "cells": [
    {
      "attachments": {},
      "cell_type": "markdown",
      "metadata": {},
      "source": [
        "# Läs in kommundata"
      ]
    },
    {
      "cell_type": "code",
      "execution_count": 3,
      "metadata": {},
      "outputs": [
        {
          "name": "stdout",
          "output_type": "stream",
          "text": [
            "Slumpmässig kommun: \n",
            "Kommunen Gagnef har id 2026 och har som senast totalt 9965 människor som bodde i kommunen. \n"
          ]
        }
      ],
      "source": [
        "from random import randint\n",
        "from data_parsing import DataParser\n",
        "\n",
        "\n",
        "data = DataParser()\n",
        "data.laddaKommuner()\n",
        "print(\"Slumpmässig kommun: \")\n",
        "print(data.kommuner[randint(0, 289)])"
      ]
    },
    {
      "attachments": {},
      "cell_type": "markdown",
      "metadata": {},
      "source": [
        "# Läs in bankomatdata"
      ]
    },
    {
      "cell_type": "code",
      "execution_count": 7,
      "metadata": {},
      "outputs": [
        {
          "name": "stdout",
          "output_type": "stream",
          "text": [
            "Slumpmässig bankomat: \n",
            "Bankomat med id 191952, som finns på addressen Stora marknadsvägen 15, i Täby kommun. Det finns 57 transaktionsadata registrerade. ÄrUte = False\n"
          ]
        }
      ],
      "source": [
        "data.laddaBankomater()\n",
        "\n",
        "print(\"Slumpmässig bankomat: \")\n",
        "print(data.bankomater[randint(0, len(data.bankomater) -1 )])"
      ]
    }
  ],
  "metadata": {
    "colab": {
      "provenance": []
    },
    "kernelspec": {
      "display_name": "Python 3",
      "language": "python",
      "name": "python3"
    },
    "language_info": {
      "codemirror_mode": {
        "name": "ipython",
        "version": 3
      },
      "file_extension": ".py",
      "mimetype": "text/x-python",
      "name": "python",
      "nbconvert_exporter": "python",
      "pygments_lexer": "ipython3",
      "version": "3.9.6"
    },
    "orig_nbformat": 4,
    "vscode": {
      "interpreter": {
        "hash": "81794d4967e6c3204c66dcd87b604927b115b27c00565d3d43f05ba2f3a2cb0d"
      }
    }
  },
  "nbformat": 4,
  "nbformat_minor": 0
}
