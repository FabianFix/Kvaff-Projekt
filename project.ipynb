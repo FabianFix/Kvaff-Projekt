{
  "cells": [
    {
      "attachments": {},
      "cell_type": "markdown",
      "metadata": {},
      "source": [
        "# Läs in kommundata"
      ]
    },
    {
      "cell_type": "code",
      "execution_count": 1,
      "metadata": {},
      "outputs": [
        {
          "name": "stdout",
          "output_type": "stream",
          "text": [
            "Slumpmässig kommun: \n",
            "Kommunen Bengtsfors har id 1460 och har som senast totalt 8878 människor som bodde i kommunen. \n"
          ]
        }
      ],
      "source": [
        "from random import randint\n",
        "from data_parsing import DataParser\n",
        "\n",
        "\n",
        "data = DataParser()\n",
        "data.laddaKommuner()\n",
        "print(\"Slumpmässig kommun: \")\n",
        "print(data.kommuner[randint(0, 289)])"
      ]
    },
    {
      "attachments": {},
      "cell_type": "markdown",
      "metadata": {},
      "source": [
        "# Läs in bankomatdata"
      ]
    },
    {
      "cell_type": "code",
      "execution_count": 2,
      "metadata": {},
      "outputs": [
        {
          "name": "stdout",
          "output_type": "stream",
          "text": [
            "Slumpmässig bankomat: \n",
            "Bankomat med id 604501, som finns på addressen Nygatan 49, i Skellefteå kommun. Det finns 79 transaktionsadata registrerade. ÄrUte = True\n",
            "Slumpmässig transaktion\n",
            "{'månad': '2014M01', 'antalTransaktioner': 2248, 'omsättning': 2071700}\n"
          ]
        }
      ],
      "source": [
        "data.laddaBankomater()\n",
        "\n",
        "print(\"Slumpmässig bankomat: \")\n",
        "print(data.bankomater[randint(0, len(data.bankomater) -1 )])\n",
        "print(\"Slumpmässig transaktion\")\n",
        "print(data.bankomater[randint(0, len(data.bankomater) - 1)].transaktionsDataSEK[0])"
      ]
    },
    {
      "attachments": {},
      "cell_type": "markdown",
      "metadata": {},
      "source": [
        "# Deskriptiv Analys"
      ]
    }
  ],
  "metadata": {
    "colab": {
      "provenance": []
    },
    "kernelspec": {
      "display_name": "Python 3",
      "language": "python",
      "name": "python3"
    },
    "language_info": {
      "codemirror_mode": {
        "name": "ipython",
        "version": 3
      },
      "file_extension": ".py",
      "mimetype": "text/x-python",
      "name": "python",
      "nbconvert_exporter": "python",
      "pygments_lexer": "ipython3",
      "version": "3.9.6"
    },
    "orig_nbformat": 4,
    "vscode": {
      "interpreter": {
        "hash": "81794d4967e6c3204c66dcd87b604927b115b27c00565d3d43f05ba2f3a2cb0d"
      }
    }
  },
  "nbformat": 4,
  "nbformat_minor": 0
}
