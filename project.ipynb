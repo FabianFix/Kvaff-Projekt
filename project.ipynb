{
  "cells": [
    {
      "cell_type": "code",
      "execution_count": null,
      "metadata": {
        "id": "ozKUGF-xI02t"
      },
      "outputs": [],
      "source": [
        "# This is a test comment\n",
        "\n",
        "#test 2"
      ]
    }
  ],
  "metadata": {
    "language_info": {
      "name": "python"
    },
    "orig_nbformat": 4,
    "colab": {
      "provenance": []
    }
  },
  "nbformat": 4,
  "nbformat_minor": 0
}