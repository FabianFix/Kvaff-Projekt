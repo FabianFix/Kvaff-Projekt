from collections import defaultdict
import pandas as pd
import seaborn as sns
from matplotlib import pyplot as plt
import numpy as np

month = "2022M01"
year = int(month[0:4])

dataDict = defaultdict(dict)

for kommun in data.kommuner:
    try:
        namn = kommun.namn
        befolkning = kommun.data[month]["total"]
        totalOmsättning = kommun.totalOmsättning
        bankomaterMedSEK = [bankomat for bankomat in data.bankomater if bankomat.transaktionsDataSEK]
        öppnaBankomaterIKommunen = [
            bankomat for bankomat in bankomaterMedSEK
            if (int(bankomat.transaktionsDataSEK[-1]["månad"][0:4]) > year 
                or (int(bankomat.transaktionsDataSEK[-1]["månad"][0:4]) == year 
                    and int(bankomat.transaktionsDataSEK[-1]["månad"][5:]) > int(month[5:]))) 
                    and bankomat.geographicalData["kommun"] == kommun.namn]
        omsättningPerInvånare = sum([[transaktionsData["omsättning"] 
                                        for transaktionsData 
                                        in bankomat.transaktionsDataSEK 
                                        if transaktionsData["månad"] == month] 
                                        for bankomat 
                                        in öppnaBankomaterIKommunen][0]) / kommun.data[month]["total"]
        antalBankomater = kommun.antalBankomater
        befolkningstäthet = kommun.befolkningstätheter[year]
        snittÅlder = kommun.snittÅlder
        antalTransaktioner = kommun.totalTransaktionsAntal
        antalTransaktionerPerBankomat = kommun.snittTransaktionsAntal
        genomsnittligTransaktionsStorlek = kommun.totalOmsättning / kommun.totalTransaktionsAntal 
        antalInvånarePerBankomat = befolkning / kommun.antalBankomater
        utrikesFödda = kommun.utrikesfödda[year]
        andelUtrikesfödda = utrikesFödda / befolkning
        bankomatTäthet = kommun.bankomatTäthet
        if omsättningPerInvånare == 0:
            raise Exception("Bankomaten var stängd vid undersökningstillfället")
    except: pass
    try:
        dataDict[namn] = {
            "Befolkning": befolkning,
            "Total Omsättning": totalOmsättning,
            "Omsättning per Invånare": omsättningPerInvånare,
            "Befolknigstäthet": befolkningstäthet,
            "Genomsnittlig Ålder": snittÅlder,
            "Andel utrikesfödda": andelUtrikesfödda,
            "Area Per Bankomat": bankomatTäthet,
        }
    except: pass

df = pd.DataFrame(dataDict)
seaborn = sns
seaborn.pairplot(data=df.T, kind="reg")
plt.show()